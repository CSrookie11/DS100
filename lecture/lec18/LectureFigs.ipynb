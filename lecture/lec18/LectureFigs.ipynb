{
 "cells": [
  {
   "cell_type": "markdown",
   "id": "b2df4a49-ea2c-4f88-b69b-e4b395853dc2",
   "metadata": {},
   "source": [
    "This notebook was made to help create figures for lecture."
   ]
  },
  {
   "cell_type": "code",
   "execution_count": null,
   "id": "141d78e5-8c20-4dd7-a844-c47a563549d5",
   "metadata": {},
   "outputs": [],
   "source": [
    "import pandas as pd\n",
    "import numpy as np\n",
    "import plotly.express as px\n",
    "import plotly.graph_objects as go"
   ]
  },
  {
   "cell_type": "markdown",
   "id": "9139fe55-cfd7-4df6-86e0-940112afc0e8",
   "metadata": {},
   "source": [
    "Creating a toy dataset to demostrate the ideas from lecture:"
   ]
  },
  {
   "cell_type": "code",
   "execution_count": null,
   "id": "d0a8fc6b-872e-48db-b562-5c3dc2eb3d6b",
   "metadata": {},
   "outputs": [],
   "source": [
    "np.random.seed(42)\n",
    "\n",
    "n = 75\n",
    "x = np.sort(4*np.random.rand(n) - 2)\n",
    "def g(x):\n",
    "    return x**2 - x**4 / 3.5 \n",
    "y = g(x) + np.random.randn(n)/10\n",
    "xtest = np.linspace(-2.1, 2.1, 300)"
   ]
  },
  {
   "cell_type": "markdown",
   "id": "5d73feb2-714e-4dcf-a729-da7bd9ce2a26",
   "metadata": {},
   "source": [
    "Making the main visualizations:"
   ]
  },
  {
   "cell_type": "code",
   "execution_count": null,
   "id": "7e3b4226-4e9f-47ec-8a7a-131b91d1ad4b",
   "metadata": {},
   "outputs": [],
   "source": [
    "trace_y = go.Scatter(\n",
    "    x=x, y=y, mode=\"markers\", name=\"Y\", marker_size = 10,\n",
    "    marker_color=px.colors.qualitative.Plotly[0])\n",
    "trace_g = go.Scatter(\n",
    "    x=xtest, y=g(xtest), mode=\"lines\", name=\"g(x)\", line_width=7,\n",
    "    line_color=px.colors.qualitative.Plotly[1])\n",
    "\n",
    "layout = go.Layout(xaxis_range=[-2.1,2.1], yaxis_range=[-1, 1.3], \n",
    "                   width=800, height=700, showlegend=True,\n",
    "                   template=\"simple_white\",\n",
    "                   font_size=24)"
   ]
  },
  {
   "cell_type": "code",
   "execution_count": null,
   "id": "0ebd2d21-f5d4-404b-b719-100341af4da7",
   "metadata": {},
   "outputs": [],
   "source": [
    "fig = go.Figure([trace_g], layout)\n",
    "fig.write_image(\"gx.png\", scale=3)\n",
    "fig"
   ]
  },
  {
   "cell_type": "code",
   "execution_count": null,
   "id": "2fee6a3f-f6d7-4a33-980a-03e834418687",
   "metadata": {},
   "outputs": [],
   "source": [
    "fig = go.Figure([trace_g, trace_y], layout)\n",
    "fig.write_image(\"gx_and_Y.png\", scale=3)\n",
    "fig"
   ]
  },
  {
   "cell_type": "code",
   "execution_count": null,
   "id": "5f827803-2221-4620-aef5-812456e26a42",
   "metadata": {},
   "outputs": [],
   "source": [
    "df = pd.DataFrame()\n",
    "df[\"x\"] = x\n",
    "df[\"y\"] = y\n",
    "np.random.seed(42)\n",
    "samples = [df.sample(5) for s in range(2)]"
   ]
  },
  {
   "cell_type": "code",
   "execution_count": null,
   "id": "6fc678e9-a74d-4b1f-be58-f001affe76b0",
   "metadata": {},
   "outputs": [],
   "source": [
    "from sklearn.linear_model import LinearRegression\n",
    "from sklearn.pipeline import Pipeline\n",
    "from sklearn.preprocessing import PolynomialFeatures\n",
    "models = [ Pipeline([\n",
    "            ('polynomial_transformation', PolynomialFeatures(5)),\n",
    "            ('linear_regression', LinearRegression())]).fit(s[[\"x\"]], s[\"y\"]) for s in samples]"
   ]
  },
  {
   "cell_type": "code",
   "execution_count": null,
   "id": "9d5eec1f-4dbd-4408-81c8-59399cd3f425",
   "metadata": {},
   "outputs": [],
   "source": [
    "lines = [\n",
    "    go.Scatter(x=xtest, y=m.predict(pd.DataFrame({\"x\": xtest})), \n",
    "               mode=\"lines\", name=f\"y_hat_{i}\", line_width=7,\n",
    "               line_color=px.colors.qualitative.Plotly[2+i])\n",
    "    for (i,m) in enumerate(models)\n",
    "]\n",
    "\n",
    "markers = [\n",
    "    go.Scatter(\n",
    "    x=s[\"x\"], y=s[\"y\"], mode=\"markers\", name=f\"y_hat_{i}\", marker_size = 20,\n",
    "    showlegend=False,\n",
    "    marker_color=px.colors.qualitative.Plotly[2+i])\n",
    "    for (i,s) in enumerate(samples)\n",
    "]\n",
    "fig = go.Figure( [\n",
    "    go.Scatter(\n",
    "        x=x, y=y, mode=\"markers\", name=\"Y\", marker_color=\"gray\"),\n",
    "    go.Scatter(\n",
    "        x=xtest, y=g(xtest), mode=\"lines\", name=\"g(x)\", line_color=\"gray\"),\n",
    "    ] + lines + markers, layout)\n",
    "fig.update_layout(yaxis_range=[-1,1.5])\n",
    "fig.write_image(\"Y_samples.png\", scale=3)\n",
    "fig"
   ]
  },
  {
   "cell_type": "code",
   "execution_count": null,
   "id": "c6e31845-081b-4bf2-adcc-7db64def98d9",
   "metadata": {},
   "outputs": [],
   "source": [
    "lines = [\n",
    "    go.Scatter(x=xtest, y=m.predict(pd.DataFrame({\"x\": xtest})), \n",
    "               mode=\"lines\", name=f\"y_hat_{i}\", line_width=7,\n",
    "               line_color=px.colors.qualitative.Plotly[2+i])\n",
    "    for (i,m) in enumerate(models)\n",
    "]\n",
    "\n",
    "markers = [\n",
    "    go.Scatter(\n",
    "    x=s[\"x\"], y=s[\"y\"], mode=\"markers\", name=f\"y_hat_{i}\", marker_size = 20,\n",
    "    showlegend=False,\n",
    "    marker_color=px.colors.qualitative.Plotly[2+i])\n",
    "    for (i,s) in enumerate(samples)\n",
    "]\n",
    "fig = go.Figure( [trace_g, trace_y, lines[0], markers[0]], layout)\n",
    "fig.update_layout(yaxis_range=[-1,1.5])\n",
    "fig.write_image(\"Y_samples_one.png\", scale=3)\n",
    "fig"
   ]
  }
 ],
 "metadata": {
  "kernelspec": {
   "display_name": "Python 3 (ipykernel)",
   "language": "python",
   "name": "python3"
  },
  "language_info": {
   "codemirror_mode": {
    "name": "ipython",
    "version": 3
   },
   "file_extension": ".py",
   "mimetype": "text/x-python",
   "name": "python",
   "nbconvert_exporter": "python",
   "pygments_lexer": "ipython3",
   "version": "3.11.7"
  }
 },
 "nbformat": 4,
 "nbformat_minor": 5
}
